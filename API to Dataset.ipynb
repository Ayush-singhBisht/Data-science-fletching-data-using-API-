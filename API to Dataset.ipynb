{
 "cells": [
  {
   "cell_type": "code",
   "execution_count": 1,
   "id": "55a9c353",
   "metadata": {},
   "outputs": [],
   "source": [
    "import pandas as pd\n",
    "import requests"
   ]
  },
  {
   "cell_type": "code",
   "execution_count": 2,
   "id": "03db189a",
   "metadata": {},
   "outputs": [],
   "source": [
    "response=requests.get('https://api.themoviedb.org/3/movie/top_rated?api_key=3a3cd55a4409c9b237d907a2cf197b18&language=en-US&page=1')"
   ]
  },
  {
   "cell_type": "code",
   "execution_count": 3,
   "id": "5e65ed1f",
   "metadata": {},
   "outputs": [],
   "source": [
    "#response.json()"
   ]
  },
  {
   "cell_type": "code",
   "execution_count": 4,
   "id": "c617dc07",
   "metadata": {},
   "outputs": [],
   "source": [
    "df=pd.DataFrame(response.json()['results'])[['id','title','overview','release_date','popularity','vote_average','vote_count']]"
   ]
  },
  {
   "cell_type": "code",
   "execution_count": 5,
   "id": "0be1ccfd",
   "metadata": {},
   "outputs": [
    {
     "data": {
      "text/html": [
       "<div>\n",
       "<style scoped>\n",
       "    .dataframe tbody tr th:only-of-type {\n",
       "        vertical-align: middle;\n",
       "    }\n",
       "\n",
       "    .dataframe tbody tr th {\n",
       "        vertical-align: top;\n",
       "    }\n",
       "\n",
       "    .dataframe thead th {\n",
       "        text-align: right;\n",
       "    }\n",
       "</style>\n",
       "<table border=\"1\" class=\"dataframe\">\n",
       "  <thead>\n",
       "    <tr style=\"text-align: right;\">\n",
       "      <th></th>\n",
       "    </tr>\n",
       "  </thead>\n",
       "  <tbody>\n",
       "  </tbody>\n",
       "</table>\n",
       "</div>"
      ],
      "text/plain": [
       "Empty DataFrame\n",
       "Columns: []\n",
       "Index: []"
      ]
     },
     "execution_count": 5,
     "metadata": {},
     "output_type": "execute_result"
    }
   ],
   "source": [
    "dataf = pd.DataFrame()\n",
    "dataf"
   ]
  },
  {
   "cell_type": "code",
   "execution_count": 6,
   "id": "75391cbf",
   "metadata": {},
   "outputs": [],
   "source": [
    "for i in range(1,429):\n",
    "    response=requests.get('https://api.themoviedb.org/3/movie/top_rated?api_key=3a3cd55a4409c9b237d907a2cf197b18&language=en-US&page={}'.format(i))\n",
    "    df=pd.DataFrame(response.json()['results'])[['id','title','overview','release_date','popularity','vote_average','vote_count']]\n",
    "    dataf=pd.concat([dataf,df],ignore_index=True)"
   ]
  },
  {
   "cell_type": "code",
   "execution_count": 7,
   "id": "cb671663",
   "metadata": {},
   "outputs": [
    {
     "data": {
      "text/html": [
       "<div>\n",
       "<style scoped>\n",
       "    .dataframe tbody tr th:only-of-type {\n",
       "        vertical-align: middle;\n",
       "    }\n",
       "\n",
       "    .dataframe tbody tr th {\n",
       "        vertical-align: top;\n",
       "    }\n",
       "\n",
       "    .dataframe thead th {\n",
       "        text-align: right;\n",
       "    }\n",
       "</style>\n",
       "<table border=\"1\" class=\"dataframe\">\n",
       "  <thead>\n",
       "    <tr style=\"text-align: right;\">\n",
       "      <th></th>\n",
       "      <th>id</th>\n",
       "      <th>title</th>\n",
       "      <th>overview</th>\n",
       "      <th>release_date</th>\n",
       "      <th>popularity</th>\n",
       "      <th>vote_average</th>\n",
       "      <th>vote_count</th>\n",
       "    </tr>\n",
       "  </thead>\n",
       "  <tbody>\n",
       "    <tr>\n",
       "      <th>0</th>\n",
       "      <td>238</td>\n",
       "      <td>The Godfather</td>\n",
       "      <td>Spanning the years 1945 to 1955, a chronicle o...</td>\n",
       "      <td>1972-03-14</td>\n",
       "      <td>128.416</td>\n",
       "      <td>8.7</td>\n",
       "      <td>18452</td>\n",
       "    </tr>\n",
       "    <tr>\n",
       "      <th>1</th>\n",
       "      <td>278</td>\n",
       "      <td>The Shawshank Redemption</td>\n",
       "      <td>Framed in the 1940s for the double murder of h...</td>\n",
       "      <td>1994-09-23</td>\n",
       "      <td>119.262</td>\n",
       "      <td>8.7</td>\n",
       "      <td>24382</td>\n",
       "    </tr>\n",
       "    <tr>\n",
       "      <th>2</th>\n",
       "      <td>240</td>\n",
       "      <td>The Godfather Part II</td>\n",
       "      <td>In the continuing saga of the Corleone crime f...</td>\n",
       "      <td>1974-12-20</td>\n",
       "      <td>78.846</td>\n",
       "      <td>8.6</td>\n",
       "      <td>11148</td>\n",
       "    </tr>\n",
       "    <tr>\n",
       "      <th>3</th>\n",
       "      <td>424</td>\n",
       "      <td>Schindler's List</td>\n",
       "      <td>The true story of how businessman Oskar Schind...</td>\n",
       "      <td>1993-12-15</td>\n",
       "      <td>54.214</td>\n",
       "      <td>8.6</td>\n",
       "      <td>14424</td>\n",
       "    </tr>\n",
       "    <tr>\n",
       "      <th>4</th>\n",
       "      <td>19404</td>\n",
       "      <td>Dilwale Dulhania Le Jayenge</td>\n",
       "      <td>Raj is a rich, carefree, happy-go-lucky second...</td>\n",
       "      <td>1995-10-20</td>\n",
       "      <td>29.488</td>\n",
       "      <td>8.6</td>\n",
       "      <td>4225</td>\n",
       "    </tr>\n",
       "    <tr>\n",
       "      <th>...</th>\n",
       "      <td>...</td>\n",
       "      <td>...</td>\n",
       "      <td>...</td>\n",
       "      <td>...</td>\n",
       "      <td>...</td>\n",
       "      <td>...</td>\n",
       "      <td>...</td>\n",
       "    </tr>\n",
       "    <tr>\n",
       "      <th>8555</th>\n",
       "      <td>524247</td>\n",
       "      <td>The Intruder</td>\n",
       "      <td>A psychological thriller about a young married...</td>\n",
       "      <td>2019-05-03</td>\n",
       "      <td>17.722</td>\n",
       "      <td>6.0</td>\n",
       "      <td>522</td>\n",
       "    </tr>\n",
       "    <tr>\n",
       "      <th>8556</th>\n",
       "      <td>295832</td>\n",
       "      <td>Unique Brothers</td>\n",
       "      <td>A funny story about two brothers, Pietro and F...</td>\n",
       "      <td>2014-10-02</td>\n",
       "      <td>7.350</td>\n",
       "      <td>6.0</td>\n",
       "      <td>285</td>\n",
       "    </tr>\n",
       "    <tr>\n",
       "      <th>8557</th>\n",
       "      <td>59457</td>\n",
       "      <td>Womb</td>\n",
       "      <td>A woman's consuming love forces her to bear th...</td>\n",
       "      <td>2010-07-15</td>\n",
       "      <td>9.516</td>\n",
       "      <td>6.0</td>\n",
       "      <td>321</td>\n",
       "    </tr>\n",
       "    <tr>\n",
       "      <th>8558</th>\n",
       "      <td>9910</td>\n",
       "      <td>Two for the Money</td>\n",
       "      <td>A former college athlete joins forces with a s...</td>\n",
       "      <td>2005-10-07</td>\n",
       "      <td>7.911</td>\n",
       "      <td>6.0</td>\n",
       "      <td>557</td>\n",
       "    </tr>\n",
       "    <tr>\n",
       "      <th>8559</th>\n",
       "      <td>864873</td>\n",
       "      <td>Hypnotic</td>\n",
       "      <td>A young woman seeking self-improvement enlists...</td>\n",
       "      <td>2021-10-27</td>\n",
       "      <td>19.706</td>\n",
       "      <td>6.0</td>\n",
       "      <td>540</td>\n",
       "    </tr>\n",
       "  </tbody>\n",
       "</table>\n",
       "<p>8560 rows × 7 columns</p>\n",
       "</div>"
      ],
      "text/plain": [
       "          id                        title  \\\n",
       "0        238                The Godfather   \n",
       "1        278     The Shawshank Redemption   \n",
       "2        240        The Godfather Part II   \n",
       "3        424             Schindler's List   \n",
       "4      19404  Dilwale Dulhania Le Jayenge   \n",
       "...      ...                          ...   \n",
       "8555  524247                 The Intruder   \n",
       "8556  295832              Unique Brothers   \n",
       "8557   59457                         Womb   \n",
       "8558    9910            Two for the Money   \n",
       "8559  864873                     Hypnotic   \n",
       "\n",
       "                                               overview release_date  \\\n",
       "0     Spanning the years 1945 to 1955, a chronicle o...   1972-03-14   \n",
       "1     Framed in the 1940s for the double murder of h...   1994-09-23   \n",
       "2     In the continuing saga of the Corleone crime f...   1974-12-20   \n",
       "3     The true story of how businessman Oskar Schind...   1993-12-15   \n",
       "4     Raj is a rich, carefree, happy-go-lucky second...   1995-10-20   \n",
       "...                                                 ...          ...   \n",
       "8555  A psychological thriller about a young married...   2019-05-03   \n",
       "8556  A funny story about two brothers, Pietro and F...   2014-10-02   \n",
       "8557  A woman's consuming love forces her to bear th...   2010-07-15   \n",
       "8558  A former college athlete joins forces with a s...   2005-10-07   \n",
       "8559  A young woman seeking self-improvement enlists...   2021-10-27   \n",
       "\n",
       "      popularity  vote_average  vote_count  \n",
       "0        128.416           8.7       18452  \n",
       "1        119.262           8.7       24382  \n",
       "2         78.846           8.6       11148  \n",
       "3         54.214           8.6       14424  \n",
       "4         29.488           8.6        4225  \n",
       "...          ...           ...         ...  \n",
       "8555      17.722           6.0         522  \n",
       "8556       7.350           6.0         285  \n",
       "8557       9.516           6.0         321  \n",
       "8558       7.911           6.0         557  \n",
       "8559      19.706           6.0         540  \n",
       "\n",
       "[8560 rows x 7 columns]"
      ]
     },
     "execution_count": 7,
     "metadata": {},
     "output_type": "execute_result"
    }
   ],
   "source": [
    "dataf"
   ]
  },
  {
   "cell_type": "code",
   "execution_count": 8,
   "id": "62e6a72e",
   "metadata": {},
   "outputs": [
    {
     "data": {
      "text/plain": [
       "(8560, 7)"
      ]
     },
     "execution_count": 8,
     "metadata": {},
     "output_type": "execute_result"
    }
   ],
   "source": [
    "dataf.shape"
   ]
  },
  {
   "cell_type": "code",
   "execution_count": 9,
   "id": "9bd5be5e",
   "metadata": {},
   "outputs": [],
   "source": [
    "dataf.to_csv('Movies_Test.csv')"
   ]
  },
  {
   "cell_type": "markdown",
   "id": "b51de634",
   "metadata": {},
   "source": [
    "# rapidapi.com"
   ]
  }
 ],
 "metadata": {
  "kernelspec": {
   "display_name": "Python 3 (ipykernel)",
   "language": "python",
   "name": "python3"
  },
  "language_info": {
   "codemirror_mode": {
    "name": "ipython",
    "version": 3
   },
   "file_extension": ".py",
   "mimetype": "text/x-python",
   "name": "python",
   "nbconvert_exporter": "python",
   "pygments_lexer": "ipython3",
   "version": "3.9.13"
  }
 },
 "nbformat": 4,
 "nbformat_minor": 5
}
